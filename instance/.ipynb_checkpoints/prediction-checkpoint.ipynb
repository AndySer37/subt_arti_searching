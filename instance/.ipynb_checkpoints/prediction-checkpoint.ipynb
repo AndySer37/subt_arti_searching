{
 "cells": [
  {
   "cell_type": "code",
   "execution_count": 1,
   "metadata": {},
   "outputs": [
    {
     "ename": "SyntaxError",
     "evalue": "Missing parentheses in call to 'print' (<ipython-input-1-da1608c9d425>, line 1)",
     "output_type": "error",
     "traceback": [
      "\u001b[0;36m  File \u001b[0;32m\"<ipython-input-1-da1608c9d425>\"\u001b[0;36m, line \u001b[0;32m1\u001b[0m\n\u001b[0;31m    print a\u001b[0m\n\u001b[0m          ^\u001b[0m\n\u001b[0;31mSyntaxError\u001b[0m\u001b[0;31m:\u001b[0m Missing parentheses in call to 'print'\n"
     ]
    }
   ],
   "source": [
    "print a"
   ]
  },
  {
   "cell_type": "code",
   "execution_count": 2,
   "metadata": {},
   "outputs": [],
   "source": [
    "import torch\n",
    "import torch.nn as nn\n",
    "import torch.nn.functional as F\n",
    "from torch.autograd import Variable\n",
    "\n",
    "import os\n",
    "import numpy as np\n",
    "\n",
    "class InstanceSeg(nn.Module):\n",
    "    def __init__(self, num_points=1024):\n",
    "        super(InstanceSeg, self).__init__()\n",
    "\n",
    "        self.num_points = num_points\n",
    "\n",
    "        self.conv1 = nn.Conv1d(3, 64, 1)\n",
    "        self.conv2 = nn.Conv1d(64, 64, 1)\n",
    "        self.conv3 = nn.Conv1d(64, 64, 1)\n",
    "        self.conv4 = nn.Conv1d(64, 128, 1)\n",
    "        self.conv5 = nn.Conv1d(128, 1024, 1)\n",
    "        self.conv6 = nn.Conv1d(1088, 512, 1)\n",
    "        self.conv7 = nn.Conv1d(512, 256, 1)\n",
    "        self.conv8 = nn.Conv1d(256, 128, 1)\n",
    "        self.conv9 = nn.Conv1d(128, 128, 1)\n",
    "        self.conv10 = nn.Conv1d(128, 2, 1)\n",
    "        self.max_pool = nn.MaxPool1d(num_points)\n",
    "\n",
    "    def forward(self, x):\n",
    "        batch_size = x.size()[0] # (x has shape (batch_size, 4, num_points))\n",
    "\n",
    "        out = F.relu(self.conv1(x)) # (shape: (batch_size, 64, num_points))\n",
    "        out = F.relu(self.conv2(out)) # (shape: (batch_size, 64, num_points))\n",
    "        point_features = out\n",
    "\n",
    "        out = F.relu(self.conv3(out)) # (shape: (batch_size, 64, num_points))\n",
    "        out = F.relu(self.conv4(out)) # (shape: (batch_size, 128, num_points))\n",
    "        out = F.relu(self.conv5(out)) # (shape: (batch_size, 1024, num_points))\n",
    "        global_feature = self.max_pool(out) # (shape: (batch_size, 1024, 1))\n",
    "\n",
    "        global_feature_repeated = global_feature.repeat(1, 1, self.num_points) # (shape: (batch_size, 1024, num_points))\n",
    "        out = torch.cat([global_feature_repeated, point_features], 1) # (shape: (batch_size, 1024+64=1088, num_points))\n",
    "\n",
    "        out = F.relu(self.conv6(out)) # (shape: (batch_size, 512, num_points))\n",
    "        out = F.relu(self.conv7(out)) # (shape: (batch_size, 256, num_points))\n",
    "        out = F.relu(self.conv8(out)) # (shape: (batch_size, 128, num_points))\n",
    "        out = F.relu(self.conv9(out)) # (shape: (batch_size, 128, num_points))\n",
    "\n",
    "        out = self.conv10(out) # (shape: (batch_size, 2, num_points))\n",
    "\n",
    "        out = out.transpose(2,1).contiguous() # (shape: (batch_size, num_points, 2))\n",
    "        out = F.log_softmax(out.view(-1, 2), dim=1) # (shape: (batch_size*num_points, 2))\n",
    "        out = out.view(batch_size, self.num_points, 2) # (shape: (batch_size, num_points, 2))\n",
    "\n",
    "        return out"
   ]
  },
  {
   "cell_type": "code",
   "execution_count": 3,
   "metadata": {},
   "outputs": [],
   "source": [
    "import sys\n",
    "import pcl\n",
    "import torch\n",
    "import torch.utils.data\n",
    "import pandas as pd\n",
    "import os\n",
    "import pickle\n",
    "import numpy as np\n",
    "import math\n",
    "\n",
    "subt_CLASSES = ('extinguisher','backpack','radio')\n",
    "\n",
    "\n",
    "\n",
    "class InstanceSeg_Dataset(torch.utils.data.Dataset):\n",
    "    def __init__(self, data_path, type, num_point,dataset_name='subt'):\n",
    "        self.num_point = num_point\n",
    "        self.root = data_path\n",
    "        self.img_dir = self.root + \"/image/\"\n",
    "        self.point_dir = self.root + \"/pc/\"\n",
    "        self.label = self.root + \"/\" + type + \".csv\"\n",
    "        self.data  = pd.read_csv(self.label)\n",
    "\n",
    "    def __getitem__(self, index):\n",
    "        pcd   = self.data.iloc[index, 0]\n",
    "        point = pcl.PointCloud_PointXYZRGBA()\n",
    "        point.from_file(pcd)\n",
    "\n",
    "        point_np = np.zeros((point.size,4), np.float32)\n",
    "        for i in range(point.size):\n",
    "            point_np[i][0] = point[i][0]\n",
    "            point_np[i][1] = point[i][1]\n",
    "            point_np[i][2] = point[i][2]\n",
    "            point_np[i][3] = int(point[i][3]) >> 16 & 0x000ff\n",
    "\n",
    "        if point_np.shape[0] < self.num_point:\n",
    "            row_idx = np.random.choice(point_np.shape[0], self.num_point, replace=True)\n",
    "        else:\n",
    "            row_idx = np.random.choice(point_np.shape[0], self.num_point, replace=False)\n",
    "        point_out = torch.from_numpy(point_np[:self.num_point,:3])  \t## need to revise\n",
    "        label = torch.from_numpy(point_np[:self.num_point,3])\t\t\t## need to revise\n",
    "        point_out = np.transpose(point_out, (1, 0))\n",
    "\n",
    "        target = torch.zeros(self.num_point, 2)\n",
    "        for i in range(self.num_point):\n",
    "        \t#print label[i]\n",
    "        \ttarget[i][int(label[i])] = 1\n",
    "        out = {'x': point_out, 'y': target}\n",
    "        return out\n",
    "\n",
    "\n",
    "    def __len__(self):\n",
    "        return len(self.data)"
   ]
  },
  {
   "cell_type": "code",
   "execution_count": 4,
   "metadata": {},
   "outputs": [],
   "source": [
    "import torch\n",
    "import torch.utils.data\n",
    "import torch.nn as nn\n",
    "from torch.autograd import Variable\n",
    "import torch.optim as optim\n",
    "import torch.nn.functional as F\n",
    "import numpy as np\n",
    "import matplotlib"
   ]
  },
  {
   "cell_type": "code",
   "execution_count": 5,
   "metadata": {},
   "outputs": [],
   "source": [
    "test_dataset = InstanceSeg_Dataset(data_path=\"/home/andyser/data/subt_real\",type=\"train\",num_point = 100000)\n",
    "test_loader = torch.utils.data.DataLoader(dataset=test_dataset,\n",
    "                                           batch_size=1, shuffle=True,\n",
    "                                           num_workers=16)\n"
   ]
  },
  {
   "cell_type": "code",
   "execution_count": 6,
   "metadata": {},
   "outputs": [
    {
     "data": {
      "text/plain": [
       "InstanceSeg(\n",
       "  (conv1): Conv1d(3, 64, kernel_size=(1,), stride=(1,))\n",
       "  (conv2): Conv1d(64, 64, kernel_size=(1,), stride=(1,))\n",
       "  (conv3): Conv1d(64, 64, kernel_size=(1,), stride=(1,))\n",
       "  (conv4): Conv1d(64, 128, kernel_size=(1,), stride=(1,))\n",
       "  (conv5): Conv1d(128, 1024, kernel_size=(1,), stride=(1,))\n",
       "  (conv6): Conv1d(1088, 512, kernel_size=(1,), stride=(1,))\n",
       "  (conv7): Conv1d(512, 256, kernel_size=(1,), stride=(1,))\n",
       "  (conv8): Conv1d(256, 128, kernel_size=(1,), stride=(1,))\n",
       "  (conv9): Conv1d(128, 128, kernel_size=(1,), stride=(1,))\n",
       "  (conv10): Conv1d(128, 2, kernel_size=(1,), stride=(1,))\n",
       "  (max_pool): MaxPool1d(kernel_size=100000, stride=100000, padding=0, dilation=1, ceil_mode=False)\n",
       ")"
      ]
     },
     "execution_count": 6,
     "metadata": {},
     "output_type": "execute_result"
    }
   ],
   "source": [
    "network = InstanceSeg(num_points = 100000)\n",
    "network = network.cuda()\n",
    "network.eval()"
   ]
  },
  {
   "cell_type": "code",
   "execution_count": 7,
   "metadata": {},
   "outputs": [],
   "source": [
    "state_dict = torch.load(\"./save.pkl\")\n",
    "network.load_state_dict(state_dict)\n",
    "dataiter = iter(test_loader)"
   ]
  },
  {
   "cell_type": "code",
   "execution_count": 1,
   "metadata": {},
   "outputs": [
    {
     "ename": "NameError",
     "evalue": "name 'dataiter' is not defined",
     "output_type": "error",
     "traceback": [
      "\u001b[0;31m------------------------------------------------------------\u001b[0m",
      "\u001b[0;31mNameError\u001b[0m                  Traceback (most recent call last)",
      "\u001b[0;32m<ipython-input-1-691cd551baf5>\u001b[0m in \u001b[0;36m<module>\u001b[0;34m\u001b[0m\n\u001b[0;32m----> 1\u001b[0;31m \u001b[0mbatch\u001b[0m \u001b[0;34m=\u001b[0m \u001b[0mdataiter\u001b[0m\u001b[0;34m.\u001b[0m\u001b[0mnext\u001b[0m\u001b[0;34m(\u001b[0m\u001b[0;34m)\u001b[0m\u001b[0;34m\u001b[0m\u001b[0m\n\u001b[0m",
      "\u001b[0;31mNameError\u001b[0m: name 'dataiter' is not defined"
     ]
    }
   ],
   "source": [
    "batch = dataiter.next()"
   ]
  },
  {
   "cell_type": "code",
   "execution_count": 11,
   "metadata": {},
   "outputs": [
    {
     "ename": "SyntaxError",
     "evalue": "Missing parentheses in call to 'print' (<ipython-input-11-da1608c9d425>, line 1)",
     "output_type": "error",
     "traceback": [
      "\u001b[0;36m  File \u001b[0;32m\"<ipython-input-11-da1608c9d425>\"\u001b[0;36m, line \u001b[0;32m1\u001b[0m\n\u001b[0;31m    print a\u001b[0m\n\u001b[0m          ^\u001b[0m\n\u001b[0;31mSyntaxError\u001b[0m\u001b[0;31m:\u001b[0m Missing parentheses in call to 'print'\n"
     ]
    }
   ],
   "source": []
  }
 ],
 "metadata": {
  "kernelspec": {
   "display_name": "Python 2",
   "language": "python",
   "name": "python2"
  },
  "language_info": {
   "codemirror_mode": {
    "name": "ipython",
    "version": 3
   },
   "file_extension": ".py",
   "mimetype": "text/x-python",
   "name": "python",
   "nbconvert_exporter": "python",
   "pygments_lexer": "ipython3",
   "version": "3.5.2"
  }
 },
 "nbformat": 4,
 "nbformat_minor": 2
}
